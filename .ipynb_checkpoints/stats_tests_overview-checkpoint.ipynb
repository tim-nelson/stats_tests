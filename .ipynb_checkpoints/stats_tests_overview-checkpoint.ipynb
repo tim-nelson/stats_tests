{
 "cells": [
  {
   "cell_type": "markdown",
   "id": "09eb0151-047d-4367-b0dc-6df1f65030d5",
   "metadata": {},
   "source": [
    "# Statistical Tests (for Location) Overview"
   ]
  },
  {
   "cell_type": "markdown",
   "id": "38539e7e-f62f-4027-8e80-9b55bd18f264",
   "metadata": {},
   "source": [
    "This notebook contains descriptions and examples for several one-sample and two-sample location tests, given in the table below.\n",
    "\n",
    "|Test                      |#Samples|Assumptions| Hypotheses|\n",
    "|-                         |-       |-          |-          |\n",
    "|One-sample t-test         |One     |$\\; (X_1, ..., X_n) \\stackrel{iid}{\\sim} \\mathcal{N}(\\mu,\\sigma^2)$ with $\\mu,\\sigma^2$ unknown| $H0: \\mu =$ $ \\mu_0$ <br> $H1: \\mu $ $< \\mu_0$ or $\\mu > \\mu_0$ or $\\mu \\neq \\mu_0$\n",
    "|Wilcoxon signed-rank test |One     |$\\; (X_1, ..., X_n) \\stackrel{iid}{\\sim} F$ *continuous* & *symmetric* about unknown $\\mu$| $H0: \\mu =$ $ \\mu_0$ <br> $H1: \\mu $ $< \\mu_0$ or $\\mu > \\mu_0$ or $\\mu \\neq \\mu_0$\n",
    "|Independent-samples t-test|Two     |$(X_1, ..., X_n) \\stackrel{iid}{\\sim} \\mathcal{N}(\\mu_1,\\sigma^2)$ with $\\mu_1,\\sigma^2$ unknown. <br> $(Y_1, ..., Y_m) \\stackrel{iid}{\\sim} \\mathcal{N}(\\mu_2,\\sigma^2)$ with $\\mu_2,\\sigma^2$ unknown.| $H0: \\mu_1$ $ =$ $ \\mu_2$ <br> $H1: \\mu_1 $ $< \\mu_2$ or $\\mu_1 > \\mu_2$ or $\\mu_1 \\neq \\mu_2$\n",
    "|Wilcoxon rank sum test    |Two     |$(X_1, ..., X_n) \\stackrel{iid}{\\sim} F$ <br> $ (Y_1-\\Delta, ..., Y_m-\\Delta) \\stackrel{iid}{\\sim}F$| $H0: \\Delta = $ $ 0$ <br> $H1: \\Delta $ $< 0$ or $\\Delta > 0$ or $\\Delta \\neq 0$\n",
    "|Mann-Witney U test        |Two     |$(X_1, ..., X_n) \\stackrel{iid}{\\sim} F_X$ <br> $(Y_1, ..., Y_m) \\stackrel{iid}{\\sim}F_Y$| $H0: $ $F_X = $ $ F_Y$ <br> $H1: $ $F_X \\neq$ $ F_Y$"
   ]
  },
  {
   "cell_type": "markdown",
   "id": "8adce9b4-9793-4f15-8744-1f5b9419944a",
   "metadata": {},
   "source": [
    "### Imports"
   ]
  },
  {
   "cell_type": "code",
   "execution_count": 74,
   "id": "55160ebd-2bc1-4f37-915c-e15bf241032e",
   "metadata": {},
   "outputs": [],
   "source": [
    "import numpy as np\n",
    "import pandas as pd\n",
    "from scipy.stats import mannwhitneyu, t, ttest_1samp, ttest_ind, wilcoxon"
   ]
  },
  {
   "cell_type": "markdown",
   "id": "0a0bd423-9df5-4420-a15b-afbcf3fc8cc1",
   "metadata": {},
   "source": [
    "## Example Datasets"
   ]
  },
  {
   "cell_type": "markdown",
   "id": "5cf9690b-5bae-4ca9-9f97-8bb533b3d363",
   "metadata": {},
   "source": [
    "#### Sleep data\n",
    "The number of hours of sleep gained, given low and normal doses of a drug, by 10 patients."
   ]
  },
  {
   "cell_type": "code",
   "execution_count": 87,
   "id": "64e65fca-8bdc-41e6-bc6c-c080d47b2c21",
   "metadata": {},
   "outputs": [
    {
     "data": {
      "text/html": [
       "<div>\n",
       "<style scoped>\n",
       "    .dataframe tbody tr th:only-of-type {\n",
       "        vertical-align: middle;\n",
       "    }\n",
       "\n",
       "    .dataframe tbody tr th {\n",
       "        vertical-align: top;\n",
       "    }\n",
       "\n",
       "    .dataframe thead th {\n",
       "        text-align: right;\n",
       "    }\n",
       "</style>\n",
       "<table border=\"1\" class=\"dataframe\">\n",
       "  <thead>\n",
       "    <tr style=\"text-align: right;\">\n",
       "      <th></th>\n",
       "      <th>0</th>\n",
       "      <th>1</th>\n",
       "      <th>2</th>\n",
       "      <th>3</th>\n",
       "      <th>4</th>\n",
       "      <th>5</th>\n",
       "      <th>6</th>\n",
       "      <th>7</th>\n",
       "      <th>8</th>\n",
       "      <th>9</th>\n",
       "    </tr>\n",
       "  </thead>\n",
       "  <tbody>\n",
       "    <tr>\n",
       "      <th>Low Dose</th>\n",
       "      <td>0.7</td>\n",
       "      <td>-1.6</td>\n",
       "      <td>-0.2</td>\n",
       "      <td>-1.2</td>\n",
       "      <td>-0.1</td>\n",
       "      <td>3.4</td>\n",
       "      <td>3.7</td>\n",
       "      <td>0.8</td>\n",
       "      <td>0.0</td>\n",
       "      <td>2.0</td>\n",
       "    </tr>\n",
       "    <tr>\n",
       "      <th>Normal Dose</th>\n",
       "      <td>1.9</td>\n",
       "      <td>0.8</td>\n",
       "      <td>1.1</td>\n",
       "      <td>0.1</td>\n",
       "      <td>-0.1</td>\n",
       "      <td>4.4</td>\n",
       "      <td>5.5</td>\n",
       "      <td>1.6</td>\n",
       "      <td>4.6</td>\n",
       "      <td>3.4</td>\n",
       "    </tr>\n",
       "  </tbody>\n",
       "</table>\n",
       "</div>"
      ],
      "text/plain": [
       "               0    1    2    3    4    5    6    7    8    9\n",
       "Low Dose     0.7 -1.6 -0.2 -1.2 -0.1  3.4  3.7  0.8  0.0  2.0\n",
       "Normal Dose  1.9  0.8  1.1  0.1 -0.1  4.4  5.5  1.6  4.6  3.4"
      ]
     },
     "execution_count": 87,
     "metadata": {},
     "output_type": "execute_result"
    }
   ],
   "source": [
    "sleep_data = [\n",
    "    [0.7, -1.6, -0.2, -1.2, -0.1, 3.4, 3.7, 0.8, 0.0, 2.0],\n",
    "    [1.9, 0.8, 1.1, 0.1, -0.1, 4.4, 5.5, 1.6, 4.6, 3.4],\n",
    "]\n",
    "sleep = pd.DataFrame(sleep_data, index=[\"Low Dose\", \"Normal Dose\"])\n",
    "sleep"
   ]
  },
  {
   "cell_type": "markdown",
   "id": "06574e00-2278-4d77-9f11-240b82ec3a4f",
   "metadata": {},
   "source": [
    "#### Glucose levels data\n",
    "Fasting blood glucose levels (measured in mmol/l) recorded in a study of type I diabetes from Altman (1991)."
   ]
  },
  {
   "cell_type": "code",
   "execution_count": 135,
   "id": "828317fa-4b3f-44b8-a746-2c648a3cfeb7",
   "metadata": {},
   "outputs": [
    {
     "data": {
      "text/html": [
       "<div>\n",
       "<style scoped>\n",
       "    .dataframe tbody tr th:only-of-type {\n",
       "        vertical-align: middle;\n",
       "    }\n",
       "\n",
       "    .dataframe tbody tr th {\n",
       "        vertical-align: top;\n",
       "    }\n",
       "\n",
       "    .dataframe thead th {\n",
       "        text-align: right;\n",
       "    }\n",
       "</style>\n",
       "<table border=\"1\" class=\"dataframe\">\n",
       "  <thead>\n",
       "    <tr style=\"text-align: right;\">\n",
       "      <th></th>\n",
       "      <th>Glucose</th>\n",
       "    </tr>\n",
       "  </thead>\n",
       "  <tbody>\n",
       "    <tr>\n",
       "      <th>0</th>\n",
       "      <td>10.3</td>\n",
       "    </tr>\n",
       "    <tr>\n",
       "      <th>1</th>\n",
       "      <td>8.8</td>\n",
       "    </tr>\n",
       "    <tr>\n",
       "      <th>2</th>\n",
       "      <td>5.3</td>\n",
       "    </tr>\n",
       "    <tr>\n",
       "      <th>3</th>\n",
       "      <td>9.5</td>\n",
       "    </tr>\n",
       "    <tr>\n",
       "      <th>4</th>\n",
       "      <td>6.7</td>\n",
       "    </tr>\n",
       "  </tbody>\n",
       "</table>\n",
       "</div>"
      ],
      "text/plain": [
       "   Glucose\n",
       "0     10.3\n",
       "1      8.8\n",
       "2      5.3\n",
       "3      9.5\n",
       "4      6.7"
      ]
     },
     "execution_count": 135,
     "metadata": {},
     "output_type": "execute_result"
    }
   ],
   "source": [
    "glucose_data = [\n",
    "    10.3,\n",
    "    8.8,\n",
    "    5.3,\n",
    "    9.5,\n",
    "    6.7,\n",
    "    6.7,\n",
    "    12.2,\n",
    "    12.5,\n",
    "    5.2,\n",
    "    15.1,\n",
    "    4.2,\n",
    "    13.3,\n",
    "    10.8,\n",
    "    15.3,\n",
    "    7.5,\n",
    "    19.0,\n",
    "    7.2,\n",
    "    4.9,\n",
    "    16.1,\n",
    "    9.3,\n",
    "    19.5,\n",
    "    8.1,\n",
    "    8.6,\n",
    "    11.1,\n",
    "]\n",
    "glucose = pd.DataFrame(glucose_data, columns=[\"Glucose\"])\n",
    "glucose.head()"
   ]
  },
  {
   "cell_type": "markdown",
   "id": "7638e32e-e24f-4a50-afcd-79fd7aad6a43",
   "metadata": {},
   "source": [
    "#### Weights of screws data\n",
    "Weights of two samples of screws"
   ]
  },
  {
   "cell_type": "code",
   "execution_count": 89,
   "id": "4f3226a4-6264-47e2-a6f6-d5ccf3e4afb6",
   "metadata": {},
   "outputs": [
    {
     "data": {
      "text/html": [
       "<div>\n",
       "<style scoped>\n",
       "    .dataframe tbody tr th:only-of-type {\n",
       "        vertical-align: middle;\n",
       "    }\n",
       "\n",
       "    .dataframe tbody tr th {\n",
       "        vertical-align: top;\n",
       "    }\n",
       "\n",
       "    .dataframe thead th {\n",
       "        text-align: right;\n",
       "    }\n",
       "</style>\n",
       "<table border=\"1\" class=\"dataframe\">\n",
       "  <thead>\n",
       "    <tr style=\"text-align: right;\">\n",
       "      <th></th>\n",
       "      <th>0</th>\n",
       "      <th>1</th>\n",
       "      <th>2</th>\n",
       "      <th>3</th>\n",
       "      <th>4</th>\n",
       "      <th>5</th>\n",
       "    </tr>\n",
       "  </thead>\n",
       "  <tbody>\n",
       "    <tr>\n",
       "      <th>Sample A</th>\n",
       "      <td>30.02</td>\n",
       "      <td>29.99</td>\n",
       "      <td>30.11</td>\n",
       "      <td>29.97</td>\n",
       "      <td>30.01</td>\n",
       "      <td>29.99</td>\n",
       "    </tr>\n",
       "    <tr>\n",
       "      <th>Sample B</th>\n",
       "      <td>29.89</td>\n",
       "      <td>29.93</td>\n",
       "      <td>29.72</td>\n",
       "      <td>29.98</td>\n",
       "      <td>30.02</td>\n",
       "      <td>29.98</td>\n",
       "    </tr>\n",
       "  </tbody>\n",
       "</table>\n",
       "</div>"
      ],
      "text/plain": [
       "              0      1      2      3      4      5\n",
       "Sample A  30.02  29.99  30.11  29.97  30.01  29.99\n",
       "Sample B  29.89  29.93  29.72  29.98  30.02  29.98"
      ]
     },
     "execution_count": 89,
     "metadata": {},
     "output_type": "execute_result"
    }
   ],
   "source": [
    "screws_data = [\n",
    "    [30.02, 29.99, 30.11, 29.97, 30.01, 29.99],\n",
    "    [29.89, 29.93, 29.72, 29.98, 30.02, 29.98],\n",
    "]\n",
    "screws = pd.DataFrame(screws_data, index=[\"Sample A\", \"Sample B\"])\n",
    "screws"
   ]
  },
  {
   "cell_type": "markdown",
   "id": "11100b3a-7925-44d5-a455-f5c2c55cce4f",
   "metadata": {
    "tags": []
   },
   "source": [
    "#### Leukemia gene expression data\n",
    "Gene expression data for leukemia patients. Rows correspond to different genes. Columns correspond to different patients."
   ]
  },
  {
   "cell_type": "code",
   "execution_count": 90,
   "id": "1b60f797-5485-46d5-b9ce-66fe93812509",
   "metadata": {},
   "outputs": [
    {
     "data": {
      "text/html": [
       "<div>\n",
       "<style scoped>\n",
       "    .dataframe tbody tr th:only-of-type {\n",
       "        vertical-align: middle;\n",
       "    }\n",
       "\n",
       "    .dataframe tbody tr th {\n",
       "        vertical-align: top;\n",
       "    }\n",
       "\n",
       "    .dataframe thead tr th {\n",
       "        text-align: left;\n",
       "    }\n",
       "\n",
       "    .dataframe thead tr:last-of-type th {\n",
       "        text-align: right;\n",
       "    }\n",
       "</style>\n",
       "<table border=\"1\" class=\"dataframe\">\n",
       "  <thead>\n",
       "    <tr>\n",
       "      <th></th>\n",
       "      <th colspan=\"10\" halign=\"left\">Subtype A</th>\n",
       "      <th>...</th>\n",
       "      <th colspan=\"10\" halign=\"left\">Subtype B</th>\n",
       "    </tr>\n",
       "    <tr>\n",
       "      <th>Patient</th>\n",
       "      <th>1</th>\n",
       "      <th>2</th>\n",
       "      <th>3</th>\n",
       "      <th>4</th>\n",
       "      <th>5</th>\n",
       "      <th>6</th>\n",
       "      <th>7</th>\n",
       "      <th>8</th>\n",
       "      <th>9</th>\n",
       "      <th>10</th>\n",
       "      <th>...</th>\n",
       "      <th>16</th>\n",
       "      <th>17</th>\n",
       "      <th>18</th>\n",
       "      <th>19</th>\n",
       "      <th>20</th>\n",
       "      <th>21</th>\n",
       "      <th>22</th>\n",
       "      <th>23</th>\n",
       "      <th>24</th>\n",
       "      <th>25</th>\n",
       "    </tr>\n",
       "    <tr>\n",
       "      <th>Gene</th>\n",
       "      <th></th>\n",
       "      <th></th>\n",
       "      <th></th>\n",
       "      <th></th>\n",
       "      <th></th>\n",
       "      <th></th>\n",
       "      <th></th>\n",
       "      <th></th>\n",
       "      <th></th>\n",
       "      <th></th>\n",
       "      <th></th>\n",
       "      <th></th>\n",
       "      <th></th>\n",
       "      <th></th>\n",
       "      <th></th>\n",
       "      <th></th>\n",
       "      <th></th>\n",
       "      <th></th>\n",
       "      <th></th>\n",
       "      <th></th>\n",
       "      <th></th>\n",
       "    </tr>\n",
       "  </thead>\n",
       "  <tbody>\n",
       "    <tr>\n",
       "      <th>1</th>\n",
       "      <td>0.561549</td>\n",
       "      <td>-0.623141</td>\n",
       "      <td>-0.814524</td>\n",
       "      <td>0.229492</td>\n",
       "      <td>-0.706016</td>\n",
       "      <td>-0.314779</td>\n",
       "      <td>-0.089514</td>\n",
       "      <td>-0.623685</td>\n",
       "      <td>-0.816460</td>\n",
       "      <td>2.043910</td>\n",
       "      <td>...</td>\n",
       "      <td>-0.606044</td>\n",
       "      <td>-0.022679</td>\n",
       "      <td>-0.382517</td>\n",
       "      <td>1.691718</td>\n",
       "      <td>1.308018</td>\n",
       "      <td>-0.570999</td>\n",
       "      <td>-0.807725</td>\n",
       "      <td>-0.940462</td>\n",
       "      <td>-0.207155</td>\n",
       "      <td>0.062535</td>\n",
       "    </tr>\n",
       "    <tr>\n",
       "      <th>2</th>\n",
       "      <td>0.213566</td>\n",
       "      <td>-0.912107</td>\n",
       "      <td>-1.084069</td>\n",
       "      <td>-0.965719</td>\n",
       "      <td>0.660884</td>\n",
       "      <td>0.541182</td>\n",
       "      <td>-0.916502</td>\n",
       "      <td>-0.912595</td>\n",
       "      <td>1.564484</td>\n",
       "      <td>0.449957</td>\n",
       "      <td>...</td>\n",
       "      <td>-0.896745</td>\n",
       "      <td>-0.372576</td>\n",
       "      <td>0.964838</td>\n",
       "      <td>0.607399</td>\n",
       "      <td>0.559321</td>\n",
       "      <td>-0.865256</td>\n",
       "      <td>-1.077961</td>\n",
       "      <td>-0.429690</td>\n",
       "      <td>-0.538333</td>\n",
       "      <td>-0.296009</td>\n",
       "    </tr>\n",
       "    <tr>\n",
       "      <th>3</th>\n",
       "      <td>-0.636584</td>\n",
       "      <td>-0.465296</td>\n",
       "      <td>-0.583127</td>\n",
       "      <td>-0.525060</td>\n",
       "      <td>-0.548306</td>\n",
       "      <td>-0.156431</td>\n",
       "      <td>-0.470195</td>\n",
       "      <td>-0.465841</td>\n",
       "      <td>-0.658930</td>\n",
       "      <td>-0.141057</td>\n",
       "      <td>...</td>\n",
       "      <td>0.514056</td>\n",
       "      <td>0.136145</td>\n",
       "      <td>-0.224280</td>\n",
       "      <td>0.022314</td>\n",
       "      <td>-0.207183</td>\n",
       "      <td>-0.413069</td>\n",
       "      <td>-0.650181</td>\n",
       "      <td>-0.783134</td>\n",
       "      <td>-0.048632</td>\n",
       "      <td>0.221498</td>\n",
       "    </tr>\n",
       "    <tr>\n",
       "      <th>4</th>\n",
       "      <td>0.347124</td>\n",
       "      <td>-0.734345</td>\n",
       "      <td>1.785912</td>\n",
       "      <td>-0.188016</td>\n",
       "      <td>-0.702840</td>\n",
       "      <td>0.446234</td>\n",
       "      <td>-1.026895</td>\n",
       "      <td>0.860892</td>\n",
       "      <td>-0.275779</td>\n",
       "      <td>0.194809</td>\n",
       "      <td>...</td>\n",
       "      <td>0.489316</td>\n",
       "      <td>-0.407069</td>\n",
       "      <td>0.794608</td>\n",
       "      <td>-0.523432</td>\n",
       "      <td>-0.758033</td>\n",
       "      <td>-0.729148</td>\n",
       "      <td>-0.056816</td>\n",
       "      <td>-1.346795</td>\n",
       "      <td>-0.595956</td>\n",
       "      <td>-0.319818</td>\n",
       "    </tr>\n",
       "    <tr>\n",
       "      <th>5</th>\n",
       "      <td>0.545509</td>\n",
       "      <td>-0.539898</td>\n",
       "      <td>1.445064</td>\n",
       "      <td>-0.534603</td>\n",
       "      <td>-0.285707</td>\n",
       "      <td>-0.204271</td>\n",
       "      <td>-0.634511</td>\n",
       "      <td>0.077930</td>\n",
       "      <td>0.127314</td>\n",
       "      <td>0.507366</td>\n",
       "      <td>...</td>\n",
       "      <td>0.620201</td>\n",
       "      <td>-0.240095</td>\n",
       "      <td>0.357756</td>\n",
       "      <td>-0.105089</td>\n",
       "      <td>-0.594073</td>\n",
       "      <td>1.548906</td>\n",
       "      <td>-0.015337</td>\n",
       "      <td>-0.664693</td>\n",
       "      <td>-0.936764</td>\n",
       "      <td>-0.345593</td>\n",
       "    </tr>\n",
       "  </tbody>\n",
       "</table>\n",
       "<p>5 rows × 72 columns</p>\n",
       "</div>"
      ],
      "text/plain": [
       "        Subtype A                                                              \\\n",
       "Patient         1         2         3         4         5         6         7   \n",
       "Gene                                                                            \n",
       "1        0.561549 -0.623141 -0.814524  0.229492 -0.706016 -0.314779 -0.089514   \n",
       "2        0.213566 -0.912107 -1.084069 -0.965719  0.660884  0.541182 -0.916502   \n",
       "3       -0.636584 -0.465296 -0.583127 -0.525060 -0.548306 -0.156431 -0.470195   \n",
       "4        0.347124 -0.734345  1.785912 -0.188016 -0.702840  0.446234 -1.026895   \n",
       "5        0.545509 -0.539898  1.445064 -0.534603 -0.285707 -0.204271 -0.634511   \n",
       "\n",
       "                                       ... Subtype B                      \\\n",
       "Patient         8         9        10  ...        16        17        18   \n",
       "Gene                                   ...                                 \n",
       "1       -0.623685 -0.816460  2.043910  ... -0.606044 -0.022679 -0.382517   \n",
       "2       -0.912595  1.564484  0.449957  ... -0.896745 -0.372576  0.964838   \n",
       "3       -0.465841 -0.658930 -0.141057  ...  0.514056  0.136145 -0.224280   \n",
       "4        0.860892 -0.275779  0.194809  ...  0.489316 -0.407069  0.794608   \n",
       "5        0.077930  0.127314  0.507366  ...  0.620201 -0.240095  0.357756   \n",
       "\n",
       "                                                                               \n",
       "Patient        19        20        21        22        23        24        25  \n",
       "Gene                                                                           \n",
       "1        1.691718  1.308018 -0.570999 -0.807725 -0.940462 -0.207155  0.062535  \n",
       "2        0.607399  0.559321 -0.865256 -1.077961 -0.429690 -0.538333 -0.296009  \n",
       "3        0.022314 -0.207183 -0.413069 -0.650181 -0.783134 -0.048632  0.221498  \n",
       "4       -0.523432 -0.758033 -0.729148 -0.056816 -1.346795 -0.595956 -0.319818  \n",
       "5       -0.105089 -0.594073  1.548906 -0.015337 -0.664693 -0.936764 -0.345593  \n",
       "\n",
       "[5 rows x 72 columns]"
      ]
     },
     "execution_count": 90,
     "metadata": {},
     "output_type": "execute_result"
    }
   ],
   "source": [
    "leukemia = pd.read_csv(\"leukemia.csv\", index_col=[0], header=[0, 1])\n",
    "leukemia.head()"
   ]
  },
  {
   "cell_type": "markdown",
   "id": "8c982f37-f45a-4498-b8c3-ddf5cdcf24e7",
   "metadata": {},
   "source": [
    "## One-sample t-test"
   ]
  },
  {
   "cell_type": "markdown",
   "id": "d4e74739-cb74-4fed-a452-d11ce0d08a01",
   "metadata": {
    "tags": []
   },
   "source": [
    "The one-sample t-test is a one-sample test for location.\n",
    "\n",
    "##### Test assumptions\n",
    "* $(X_1, ..., X_n) \\stackrel{iid}{\\sim} \\mathcal{N}(\\mu,\\sigma^2)$ with $\\mu,\\sigma^2$ unknown.\n",
    "\n",
    "##### Typical test hypothesis\n",
    "* $H0: \\mu = \\mu_0$\n",
    "* $H1: \\mu < \\mu_0$ or $\\mu > \\mu_0$ or $\\mu \\neq \\mu_0$\n",
    "\n",
    "##### Test Statistic\n",
    "$$T(X) = \\frac{\\bar{X}-\\mu_0}{S \\big/ \\sqrt{n}} \\sim t_{n-1}$$\n",
    "\n",
    "* $\\bar{X} = \\frac{1}{n}\\sum_{i=1}^{n}X_i$\n",
    "* $S^2 = \\frac{1}{n-1}\\sum_{i=1}^{n}(X_i-\\bar{X})^2$\n",
    "\n",
    "##### Distribution of test statistic\n",
    "* $H0: \\mu = \\mu_0$ $\\qquad$ $\\mu_0 \\simeq \\bar{X} \\simeq \\mu \\implies t_{obs}\\simeq 0$\n",
    "\n",
    "* $H1: \\mu < \\mu_0$ $\\qquad$ compute $p^+ = \\mathbb{P}(T(X) \\leq t_{obs})$ and reject $H0$ if $p^+ \\leq \\alpha$\n",
    "* $H1: \\mu > \\mu_0$ $\\qquad$ compute $p^- = \\mathbb{P}(T(X) \\geq t_{obs})$ and reject $H0$ if $p^+ \\leq \\alpha$\n",
    "* $H1: \\mu \\neq \\mu_0$ $\\qquad$ compute $p = \\mathbb{P}(|T(X)| \\geq t_{obs}) = 2\\mathbb{P}(T(X) \\geq t_{obs})$ and reject $H0$ if $p \\leq \\alpha$\n",
    "\n",
    "$ \\big( \\mu < \\mu_0 \\implies$ small $\\bar{X}-\\mu_0 \\implies$ small $t_{obs} \\implies$ small $\\mathbb{P}(T(X) \\leq t_{obs}) \\big)$ "
   ]
  },
  {
   "cell_type": "markdown",
   "id": "11ee973b-6b81-490e-86e3-525ddbcc556c",
   "metadata": {},
   "source": [
    "### Example (sleep data):"
   ]
  },
  {
   "cell_type": "code",
   "execution_count": 91,
   "id": "1844dc95-30fd-438f-9352-c34f118d33fc",
   "metadata": {},
   "outputs": [
    {
     "data": {
      "text/html": [
       "<div>\n",
       "<style scoped>\n",
       "    .dataframe tbody tr th:only-of-type {\n",
       "        vertical-align: middle;\n",
       "    }\n",
       "\n",
       "    .dataframe tbody tr th {\n",
       "        vertical-align: top;\n",
       "    }\n",
       "\n",
       "    .dataframe thead th {\n",
       "        text-align: right;\n",
       "    }\n",
       "</style>\n",
       "<table border=\"1\" class=\"dataframe\">\n",
       "  <thead>\n",
       "    <tr style=\"text-align: right;\">\n",
       "      <th></th>\n",
       "      <th>0</th>\n",
       "      <th>1</th>\n",
       "      <th>2</th>\n",
       "      <th>3</th>\n",
       "      <th>4</th>\n",
       "      <th>5</th>\n",
       "      <th>6</th>\n",
       "      <th>7</th>\n",
       "      <th>8</th>\n",
       "      <th>9</th>\n",
       "    </tr>\n",
       "  </thead>\n",
       "  <tbody>\n",
       "    <tr>\n",
       "      <th>Low Dose</th>\n",
       "      <td>0.7</td>\n",
       "      <td>-1.6</td>\n",
       "      <td>-0.2</td>\n",
       "      <td>-1.2</td>\n",
       "      <td>-0.1</td>\n",
       "      <td>3.4</td>\n",
       "      <td>3.7</td>\n",
       "      <td>0.8</td>\n",
       "      <td>0.0</td>\n",
       "      <td>2.0</td>\n",
       "    </tr>\n",
       "    <tr>\n",
       "      <th>Normal Dose</th>\n",
       "      <td>1.9</td>\n",
       "      <td>0.8</td>\n",
       "      <td>1.1</td>\n",
       "      <td>0.1</td>\n",
       "      <td>-0.1</td>\n",
       "      <td>4.4</td>\n",
       "      <td>5.5</td>\n",
       "      <td>1.6</td>\n",
       "      <td>4.6</td>\n",
       "      <td>3.4</td>\n",
       "    </tr>\n",
       "  </tbody>\n",
       "</table>\n",
       "</div>"
      ],
      "text/plain": [
       "               0    1    2    3    4    5    6    7    8    9\n",
       "Low Dose     0.7 -1.6 -0.2 -1.2 -0.1  3.4  3.7  0.8  0.0  2.0\n",
       "Normal Dose  1.9  0.8  1.1  0.1 -0.1  4.4  5.5  1.6  4.6  3.4"
      ]
     },
     "execution_count": 91,
     "metadata": {},
     "output_type": "execute_result"
    }
   ],
   "source": [
    "sleep.head()"
   ]
  },
  {
   "cell_type": "markdown",
   "id": "7504024b-68e2-4206-b51b-30e5a93c69a5",
   "metadata": {
    "tags": []
   },
   "source": [
    "##### Hypothesis\n",
    "$H0: \\mu = 0$ vs $H1: \\mu > 0$"
   ]
  },
  {
   "cell_type": "code",
   "execution_count": 92,
   "id": "bab9ff1f-0b37-4856-ab51-b2df47849204",
   "metadata": {},
   "outputs": [],
   "source": [
    "X1 = sleep.loc[\"Low Dose\"]\n",
    "X2 = sleep.loc[\"Normal Dose\"]"
   ]
  },
  {
   "cell_type": "markdown",
   "id": "cfdc1860-4392-4e2f-84f5-bf1178e0aa2d",
   "metadata": {
    "tags": []
   },
   "source": [
    "##### Calculation"
   ]
  },
  {
   "cell_type": "code",
   "execution_count": 93,
   "id": "fe20e6a4-5879-457c-8f46-6e80154e52e3",
   "metadata": {},
   "outputs": [
    {
     "name": "stdout",
     "output_type": "stream",
     "text": [
      "t_obs:  1.3257101407138216\n",
      "pval:  0.10879889003422438\n"
     ]
    }
   ],
   "source": [
    "n = len(X1)\n",
    "x_bar = X1.mean()\n",
    "s = (X1.var()) ** 0.5\n",
    "mu = 0\n",
    "\n",
    "t_obs = (x_bar - mu) / (s / n**0.5)\n",
    "pval = 1 - t.cdf(t_obs, n - 1)\n",
    "\n",
    "print(\"t_obs: \", t_obs)\n",
    "print(\"pval: \", pval)"
   ]
  },
  {
   "cell_type": "markdown",
   "id": "d6bf877f-05fd-4ec8-a628-49f199fb4460",
   "metadata": {
    "tags": []
   },
   "source": [
    "##### Scipy"
   ]
  },
  {
   "cell_type": "code",
   "execution_count": 94,
   "id": "a70cf1ad-ce4e-4569-9d40-d5a601912c9d",
   "metadata": {},
   "outputs": [
    {
     "data": {
      "text/plain": [
       "Ttest_1sampResult(statistic=1.3257101407138212, pvalue=0.10879889003422445)"
      ]
     },
     "execution_count": 94,
     "metadata": {},
     "output_type": "execute_result"
    }
   ],
   "source": [
    "ttest_1samp(X1, 0, alternative=\"greater\")"
   ]
  },
  {
   "cell_type": "code",
   "execution_count": 97,
   "id": "8f777c56-c73e-4b94-902c-76a0019d16ae",
   "metadata": {},
   "outputs": [
    {
     "data": {
      "text/plain": [
       "Ttest_1sampResult(statistic=3.6799158947951884, pvalue=0.0025380663248862055)"
      ]
     },
     "execution_count": 97,
     "metadata": {},
     "output_type": "execute_result"
    }
   ],
   "source": [
    "ttest_1samp(X2, 0, alternative=\"greater\")"
   ]
  },
  {
   "cell_type": "markdown",
   "id": "88d19bc7-74f7-4760-8236-bd437d42fc0a",
   "metadata": {},
   "source": [
    "## Wilcoxon signed-rank test"
   ]
  },
  {
   "cell_type": "markdown",
   "id": "a51be075-2fba-4405-a99a-9c5409ac526e",
   "metadata": {
    "tags": []
   },
   "source": [
    "The Wilcoxon signed-rank test is a one-sample test for location.\n",
    "##### Let\n",
    "* $F$ be a fixed unknown CDF defined on $\\mathbb{R}$\n",
    "\n",
    "##### Test assumptions\n",
    "* $(X_1, ..., X_n) \\stackrel{iid}{\\sim} F$\n",
    "* $F$ *continuous* and *symmetric* about unknown $\\mu$\n",
    "\n",
    "##### Typical test hypothesis\n",
    "* $H0: \\mu = \\mu_0$\n",
    "* $H1: \\mu < \\mu_0$ or $\\mu > \\mu_0$ or $\\mu \\neq \\mu_0$\n",
    "\n",
    "##### Test Statistic (Wilcoxon signed-rank test statistic)\n",
    "$$W(I,R) = \\sum_{j=1}^{n}I_jR_j$$\n",
    "* $R = R(|X-\\mu_0|) = (R_1, ..., R_n)$\n",
    "* $I = I(X) = (I_1, ..., I_n)$\n",
    "    * $R_i = \\sum_{j=1}^{n}\\mathbb{I}\\{|X_j-\\mu_0| \\leq |X_i-\\mu_0|\\}$  \n",
    "    (Rank of $|X_i-\\mu_0|$ in $\\{X_1-\\mu_0, ..., X_n-\\mu_0\\}$)\n",
    "    * $I_i = \\mathbb{I}\\{X_i>\\mu_0\\}$\n",
    "\n",
    "##### Distribution of test statistic\n",
    "* $H0: \\mu = \\mu_0$ $\\qquad$ $I_i \\sim Ber(1/2)$, $R \\sim U(\\mathcal{P}_n)$. Sum is from $1$ to $n$, each rank appears once, and $I \\perp R$ $\\implies W(I,R) = \\sum_{j=1}^{n}jJ_j$\n",
    "\n",
    "* $H1: \\mu < \\mu_0$ $\\qquad$ compute $p^- = \\mathbb{P}(W(I,R) \\leq W_{obs})$ and reject $H0$ if $p^- \\leq \\alpha$\n",
    "* $H1: \\mu > \\mu_0$ $\\qquad$ compute $p^+ = \\mathbb{P}(W(I,R) \\geq W_{obs})$ and reject $H0$ if $p^+ \\leq \\alpha$\n",
    "* $H1: \\mu \\neq \\mu_0$ $\\qquad$ compute $p^+, p^-$ and reject $H0$ if $2min(p^-, p^+) \\leq \\alpha$ as the distribution of $W$ is symmetric (about $n(n + 1)/4$)\n",
    "\n",
    "$ \\big( \\mu > \\mu_0 \\implies$ large $|X−\\mu_0|$ values for $X$ values above $\\mu_0 \\implies$ large $W_{obs} \\implies$ small $\\mathbb{P}(W(R) \\geq W_{obs}) \\big)$ "
   ]
  },
  {
   "cell_type": "markdown",
   "id": "aef78c0b-d368-4bdc-abbe-773cf5d9fce9",
   "metadata": {},
   "source": [
    "### Monte Carlo Wilcoxon signed-rank test"
   ]
  },
  {
   "cell_type": "markdown",
   "id": "9bce667a-2d10-4a7f-b5ac-188513ad96c4",
   "metadata": {},
   "source": [
    "For moderately large $n$, going through all possible permutations is infeasible and we must approximate.\n",
    "\n",
    "1. Compute $W_{obs} = W(z)$\n",
    "2. For $k=1,...,K$,\n",
    "    * Simulate $R^{(k)} \\stackrel{iid}{\\sim} U(\\mathcal{P}_{n})$ and signs $S^{(k)} \\in \\{-1,1\\}^n$\n",
    "    * Calculate $W_{mc}^{(k)} = \\sum_i \\mathbb{I}_{R_i^{(k)}S_i^{(k)}>0}$\n",
    "4. Estimate relevant p-value:\n",
    "* $H1: \\mu < \\mu_0$ $\\qquad$ compute $\\widehat{p}^- = K^{-1} \\sum_k \\mathbb{I}_{W_{mc}^{(k)} \\leq W_{obs}}$\n",
    "* $H1: \\mu > \\mu_0$ $\\qquad$ compute $\\widehat{p}^+ = K^{-1} \\sum_k \\mathbb{I}_{W_{mc}^{(k)} \\geq W_{obs}}$\n",
    "* $H1: \\mu \\neq \\mu_0$ $\\qquad$ compute $p = 2min(\\widehat{p}^-, \\widehat{p}^+)$"
   ]
  },
  {
   "cell_type": "markdown",
   "id": "44aa0d16-751d-4ade-878d-27114844dd49",
   "metadata": {},
   "source": [
    "### Example (glucose data):"
   ]
  },
  {
   "cell_type": "code",
   "execution_count": 98,
   "id": "43aca5b7-9b90-41f4-9d0e-c8be592a077c",
   "metadata": {},
   "outputs": [
    {
     "data": {
      "text/html": [
       "<div>\n",
       "<style scoped>\n",
       "    .dataframe tbody tr th:only-of-type {\n",
       "        vertical-align: middle;\n",
       "    }\n",
       "\n",
       "    .dataframe tbody tr th {\n",
       "        vertical-align: top;\n",
       "    }\n",
       "\n",
       "    .dataframe thead th {\n",
       "        text-align: right;\n",
       "    }\n",
       "</style>\n",
       "<table border=\"1\" class=\"dataframe\">\n",
       "  <thead>\n",
       "    <tr style=\"text-align: right;\">\n",
       "      <th></th>\n",
       "      <th>Glucose</th>\n",
       "    </tr>\n",
       "  </thead>\n",
       "  <tbody>\n",
       "    <tr>\n",
       "      <th>0</th>\n",
       "      <td>10.3</td>\n",
       "    </tr>\n",
       "    <tr>\n",
       "      <th>1</th>\n",
       "      <td>8.8</td>\n",
       "    </tr>\n",
       "    <tr>\n",
       "      <th>2</th>\n",
       "      <td>5.3</td>\n",
       "    </tr>\n",
       "  </tbody>\n",
       "</table>\n",
       "</div>"
      ],
      "text/plain": [
       "   Glucose\n",
       "0     10.3\n",
       "1      8.8\n",
       "2      5.3"
      ]
     },
     "execution_count": 98,
     "metadata": {},
     "output_type": "execute_result"
    }
   ],
   "source": [
    "glucose.head(3)"
   ]
  },
  {
   "cell_type": "markdown",
   "id": "354d6153-0a7d-4eca-b6c8-d98338ce6d3c",
   "metadata": {
    "tags": []
   },
   "source": [
    "##### Hypothesis\n",
    "$H0: \\mu = 10$ vs $H1: \\mu < 10$"
   ]
  },
  {
   "cell_type": "code",
   "execution_count": 99,
   "id": "dace1d83-1c54-4d86-a3a3-985187fa0f2c",
   "metadata": {},
   "outputs": [],
   "source": [
    "X = glucose.iloc[:, 0]"
   ]
  },
  {
   "cell_type": "markdown",
   "id": "4341eb9d-f6ca-471c-8f4a-51f8f29864d3",
   "metadata": {
    "tags": []
   },
   "source": [
    "##### Calculation (Monte Carlo)"
   ]
  },
  {
   "cell_type": "code",
   "execution_count": 136,
   "id": "a16d1beb-fd73-473f-83c3-f73922a505b0",
   "metadata": {},
   "outputs": [
    {
     "name": "stdout",
     "output_type": "stream",
     "text": [
      "W_obs:  0.0\n",
      "pval:  0.0\n"
     ]
    }
   ],
   "source": [
    "# 1. Compute W_obs\n",
    "all_ranks = abs(X - 10).rank()\n",
    "orig_pos_ind = (X - 10)[X - 10 > 0].index\n",
    "W_obs = all_ranks[orig_pos_ind].sum()\n",
    "\n",
    "# 2. Compute W_mc (K times)\n",
    "K = 100000\n",
    "n = 24\n",
    "W_mc_list = np.zeros(K)\n",
    "\n",
    "for i in range(K):\n",
    "    ranks = list(range(1, n + 1))\n",
    "    signs = np.random.choice([-1, 1], size=n)\n",
    "    srank = ranks * signs\n",
    "    W_mc = srank[srank > 0].sum()\n",
    "    W_mc_list[i] = W_mc\n",
    "\n",
    "# 3. Compute p_val\n",
    "pval_large = (W_mc_list >= W_obs).mean()\n",
    "pval_small = (W_mc_list <= W_obs).mean()\n",
    "\n",
    "print(\"W_obs: \", W_obs)\n",
    "print(\"pval: \", pval_small)"
   ]
  },
  {
   "cell_type": "markdown",
   "id": "ee688179-a4a6-410f-9e29-a4252b317ba7",
   "metadata": {
    "tags": []
   },
   "source": [
    "##### Scipy"
   ]
  },
  {
   "cell_type": "code",
   "execution_count": 101,
   "id": "26c2826f-29f8-4875-888b-1d8e5e533e64",
   "metadata": {},
   "outputs": [
    {
     "data": {
      "text/plain": [
       "WilcoxonResult(statistic=152.0, pvalue=0.527946412563324)"
      ]
     },
     "execution_count": 101,
     "metadata": {},
     "output_type": "execute_result"
    }
   ],
   "source": [
    "wilcoxon(glucose.iloc[:, 0] - 10, alternative=\"less\")"
   ]
  },
  {
   "cell_type": "markdown",
   "id": "e79a483b-8e8e-4c9d-b616-92a8845512d3",
   "metadata": {},
   "source": [
    "## Independent-samples t-test"
   ]
  },
  {
   "cell_type": "markdown",
   "id": "cbac8a77-05f7-442a-97c9-37cfae3e09e8",
   "metadata": {
    "tags": []
   },
   "source": [
    "The independent-samples t-test is a two-sample test for location.\n",
    "\n",
    "##### Test assumptions\n",
    "* $(X_1, ..., X_n) \\stackrel{iid}{\\sim} \\mathcal{N}(\\mu_1,\\sigma^2)$ with $\\mu_1,\\sigma^2$ unknown.\n",
    "* $(Y_1, ..., Y_m) \\stackrel{iid}{\\sim} \\mathcal{N}(\\mu_2,\\sigma^2)$ with $\\mu_2,\\sigma^2$ unknown.\n",
    "\n",
    "Note, there exists a version for unequal variances.\n",
    "\n",
    "##### Typical test hypothesis\n",
    "* $H0: \\mu_1 = \\mu_2$\n",
    "* $H1: \\mu_1 < \\mu_2$ or $\\mu_1 > \\mu_2$ or $\\mu_1 \\neq \\mu_2$\n",
    "\n",
    "##### Test Statistic\n",
    "$$T(X) = \\frac{\\bar{X}-\\bar{Y}}{S_p \\sqrt{\\frac{1}{n} + \\frac{1}{m}}} \\sim t_{n+m-2}$$\n",
    "\n",
    "* $\\bar{X} = \\frac{1}{n}\\sum_{i=1}^{n}X_i$\n",
    "* $\\bar{Y} = \\frac{1}{m}\\sum_{i=1}^{m}Y_i$\n",
    "* $S_X^2 = \\frac{1}{n-1}\\sum_{i=1}^{n}(X_i-\\bar{X})^2$\n",
    "* $S_Y^2 = \\frac{1}{m-1}\\sum_{i=1}^{m}(Y_i-\\bar{Y})^2$\n",
    "* $S_p^2 = \\frac{(n-1)S_X^2+(m-1)S_Y^2}{n+m-2}$\n",
    "\n",
    "##### Distribution of test statistic\n",
    "* $H0: \\mu_1 = \\mu_2$ $\\qquad$ $\\bar{X} \\simeq \\bar{Y} \\implies t_{obs}\\simeq 0$\n",
    "\n",
    "* $H1: \\mu_1 < \\mu_2$ $\\qquad$ compute $p^+ = \\mathbb{P}(T(X) \\leq t_{obs})$ and reject $H0$ if $p^+ \\leq \\alpha$\n",
    "* $H1: \\mu_1 > \\mu_2$ $\\qquad$ compute $p^- = \\mathbb{P}(T(X) \\geq t_{obs})$ and reject $H0$ if $p^+ \\leq \\alpha$\n",
    "* $H1: \\mu_1 \\neq \\mu_2$ $\\qquad$ compute $p = \\mathbb{P}(|T(X)| \\geq t_{obs}) = 2\\mathbb{P}(T(X) \\geq t_{obs})$ and reject $H0$ if $p \\leq \\alpha$\n",
    "\n",
    "$ \\big( \\mu_1 < \\mu_2 \\implies$ small $\\bar{X}-\\bar{Y} \\implies$ small $t_{obs} \\implies$ small $\\mathbb{P}(T(X) \\leq t_{obs}) \\big)$ "
   ]
  },
  {
   "cell_type": "markdown",
   "id": "c5874bd2-5294-48b1-9fb8-e4782ccbaf90",
   "metadata": {
    "tags": []
   },
   "source": [
    "### Example (screws data):"
   ]
  },
  {
   "cell_type": "code",
   "execution_count": 102,
   "id": "491c2a36-1f2b-4313-b870-5b2c479ede1d",
   "metadata": {},
   "outputs": [
    {
     "data": {
      "text/html": [
       "<div>\n",
       "<style scoped>\n",
       "    .dataframe tbody tr th:only-of-type {\n",
       "        vertical-align: middle;\n",
       "    }\n",
       "\n",
       "    .dataframe tbody tr th {\n",
       "        vertical-align: top;\n",
       "    }\n",
       "\n",
       "    .dataframe thead th {\n",
       "        text-align: right;\n",
       "    }\n",
       "</style>\n",
       "<table border=\"1\" class=\"dataframe\">\n",
       "  <thead>\n",
       "    <tr style=\"text-align: right;\">\n",
       "      <th></th>\n",
       "      <th>0</th>\n",
       "      <th>1</th>\n",
       "      <th>2</th>\n",
       "      <th>3</th>\n",
       "      <th>4</th>\n",
       "      <th>5</th>\n",
       "    </tr>\n",
       "  </thead>\n",
       "  <tbody>\n",
       "    <tr>\n",
       "      <th>Sample A</th>\n",
       "      <td>30.02</td>\n",
       "      <td>29.99</td>\n",
       "      <td>30.11</td>\n",
       "      <td>29.97</td>\n",
       "      <td>30.01</td>\n",
       "      <td>29.99</td>\n",
       "    </tr>\n",
       "    <tr>\n",
       "      <th>Sample B</th>\n",
       "      <td>29.89</td>\n",
       "      <td>29.93</td>\n",
       "      <td>29.72</td>\n",
       "      <td>29.98</td>\n",
       "      <td>30.02</td>\n",
       "      <td>29.98</td>\n",
       "    </tr>\n",
       "  </tbody>\n",
       "</table>\n",
       "</div>"
      ],
      "text/plain": [
       "              0      1      2      3      4      5\n",
       "Sample A  30.02  29.99  30.11  29.97  30.01  29.99\n",
       "Sample B  29.89  29.93  29.72  29.98  30.02  29.98"
      ]
     },
     "execution_count": 102,
     "metadata": {},
     "output_type": "execute_result"
    }
   ],
   "source": [
    "screws.head()"
   ]
  },
  {
   "cell_type": "markdown",
   "id": "28a99fb9-b90e-424f-9321-db6cc08fbc31",
   "metadata": {
    "tags": []
   },
   "source": [
    "##### Hypothesis\n",
    "$H0: \\mu_1 = \\mu_2$ vs $H1: \\mu_1 \\neq \\mu_2$"
   ]
  },
  {
   "cell_type": "code",
   "execution_count": 103,
   "id": "b5d0d826-9d5d-44c0-9329-6bc08cd6dc86",
   "metadata": {},
   "outputs": [],
   "source": [
    "X = screws.loc[\"Sample A\"]\n",
    "Y = screws.loc[\"Sample B\"]"
   ]
  },
  {
   "cell_type": "markdown",
   "id": "87d3367f-f9a9-4cd6-89a9-e7dee59260f2",
   "metadata": {
    "tags": []
   },
   "source": [
    "##### Calculation"
   ]
  },
  {
   "cell_type": "code",
   "execution_count": 104,
   "id": "14e87207-2d0d-42e5-bf7e-5eb632b76735",
   "metadata": {},
   "outputs": [
    {
     "name": "stdout",
     "output_type": "stream",
     "text": [
      "t_obs:  1.9590058081081436\n",
      "pval:  0.07856577385723074\n"
     ]
    }
   ],
   "source": [
    "n = len(X)\n",
    "m = len(Y)\n",
    "x_bar = X.mean()\n",
    "y_bar = Y.mean()\n",
    "s_x = (X.var()) ** 0.5\n",
    "s_y = (Y.var()) ** 0.5\n",
    "s_p = (((n - 1) * s_x**2 + (m - 1) * s_y**2) / (n + m - 2)) ** 0.5\n",
    "\n",
    "t_obs = (x_bar - y_bar) / (s_p * (1 / n + 1 / m) ** 0.5)\n",
    "pval = 2 * (1 - t.cdf(t_obs, n + m - 2))\n",
    "\n",
    "print(\"t_obs: \", t_obs)\n",
    "print(\"pval: \", pval)"
   ]
  },
  {
   "cell_type": "markdown",
   "id": "819247ba-14b6-4708-8e1a-e4b4a963a574",
   "metadata": {
    "tags": []
   },
   "source": [
    "##### Scipy"
   ]
  },
  {
   "cell_type": "code",
   "execution_count": 105,
   "id": "24d59bfe-8619-4c12-9c5b-37875e426757",
   "metadata": {},
   "outputs": [
    {
     "data": {
      "text/plain": [
       "Ttest_indResult(statistic=1.9590058081081436, pvalue=0.07856577385723074)"
      ]
     },
     "execution_count": 105,
     "metadata": {},
     "output_type": "execute_result"
    }
   ],
   "source": [
    "ttest_ind(X, Y, equal_var=True, alternative=\"two-sided\")"
   ]
  },
  {
   "cell_type": "markdown",
   "id": "a768de2e-440e-4f0a-9d55-49f9a804ab2c",
   "metadata": {},
   "source": [
    "## Wilcoxon rank sum test"
   ]
  },
  {
   "cell_type": "markdown",
   "id": "4dd65875-86aa-420e-84c8-66d83be8b91c",
   "metadata": {
    "tags": []
   },
   "source": [
    "The Wilcoxon rank sum test is a two-sample test for location.\n",
    "##### Let\n",
    "* $F$ be a fixed unknown CDF defined on $\\mathbb{R}$\n",
    "* $\\Delta \\in \\mathbb{R}$ unknown \n",
    "\n",
    "##### Test assumptions\n",
    "* $(X_1, ..., X_n) \\stackrel{iid}{\\sim} F$\n",
    "* $(Y_1-\\Delta, ..., Y_m-\\Delta) \\stackrel{iid}{\\sim}F$\n",
    "\n",
    "##### Typical test hypothesis\n",
    "* $H0: \\Delta = 0$\n",
    "* $H1: \\Delta < 0$ or $\\Delta > 0$ or $\\Delta \\neq  0$  \n",
    "\n",
    "##### Test Statistic (Wilcoxon rank sum test statistic)\n",
    "$$W(R(Z)) = \\sum_{i=n+1}^{n+m}R_i$$\n",
    "* $Z = (X,Y)$\n",
    "* $R(Z) = (R_1, ..., R_N)$ ($N=n+m$ ranks of the elements of $Z$)\n",
    "\n",
    "##### Distribution of test statistic\n",
    "* $H0: \\Delta = 0$ $\\qquad$ $X$ and $Y$ iid $\\implies Z_1, ..., Z_N$ exchangeable $\\implies  R \\sim U(\\mathcal P_{n+m})$\n",
    "\n",
    "* $H1: \\Delta < 0$ $\\qquad$ compute $p^- = G_{n,m}(W_{obs}) = \\mathbb{P}(W(R) \\leq W_{obs})$ and reject $H0$ if $p^- \\leq \\alpha$\n",
    "* $H1: \\Delta > 0$ $\\qquad$ compute $p^+ = 1-G_{n,m}(W_{obs}) = \\mathbb{P}(W(R) \\geq W_{obs})$ and reject $H0$ if $p^+ \\leq \\alpha$\n",
    "* $H1: \\Delta \\neq 0$ $\\qquad$ compute $p^+, p^-$ and reject $H0$ if $2min(p^-, p^+) \\leq \\alpha$\n",
    "\n",
    "$ \\big( \\Delta < 0 \\implies$ large $Y_i - \\Delta \\implies$ small $Y_i \\implies$ small $W_{obs} \\implies$ small $\\mathbb{P}(W(R) \\leq W_{obs}) \\big)$ "
   ]
  },
  {
   "cell_type": "markdown",
   "id": "d57c33a5-5889-49c1-8970-25d8e5bf39f2",
   "metadata": {},
   "source": [
    "### Monte Carlo Wilcoxon rank sum test"
   ]
  },
  {
   "cell_type": "markdown",
   "id": "bb477de7-22e7-4510-adae-f29f357906b1",
   "metadata": {
    "jp-MarkdownHeadingCollapsed": true,
    "tags": []
   },
   "source": [
    "For moderately large $m$ and $n$, going through all possible permutations is infeasible and we have\n",
    "to make some approximation to $G_{n,m}$.\n",
    "\n",
    "1. Compute $W_{obs} = W(z)$\n",
    "2. For $k=1,...,K$,\n",
    "    * Simulate random rank vectors $R^{(k)} \\stackrel{iid}{\\sim} U(\\mathcal{P}_{n+m})$\n",
    "    * Calculate $W_{mc}^{(k)} = \\sum_{i=n+1}^{n+m}R_i^{(k)}$\n",
    "3. Estimate relevant p-value:\n",
    "* $H1: \\Delta < 0$ $\\qquad$ compute $\\widehat{p}^- = K^{-1} \\sum_k \\mathbb{I}_{W^{(k)} \\leq W_{obs}}$\n",
    "* $H1: \\Delta > 0$ $\\qquad$ compute $\\widehat{p}^+ = K^{-1} \\sum_k \\mathbb{I}_{W^{(k)} \\geq W_{obs}}$\n",
    "* $H1: \\Delta \\neq 0$ $\\qquad$ compute $p = 2min(\\widehat{p}^-, \\widehat{p}^+)$"
   ]
  },
  {
   "cell_type": "markdown",
   "id": "4c66b3b5-8e0a-4ce9-a42d-a6c50cf290c2",
   "metadata": {},
   "source": [
    "## Mann-Witney U test"
   ]
  },
  {
   "cell_type": "markdown",
   "id": "2ba65a08-dff0-4f28-abfe-776bb5fbb351",
   "metadata": {
    "tags": []
   },
   "source": [
    "The Mann-Witney U test is a two-sample test for similarity of distributions.\n",
    "This test differs to the Wilcoxon rank sum permutation test in its assumption and hypothesis. However, the statistics are equivalent.\n",
    "##### Let\n",
    "* $F_X, F_Y$ be fixed unknown CDFs defined on $\\mathbb{R}$\n",
    "\n",
    "##### Test assumptions\n",
    "* $(X_1, ..., X_n) \\stackrel{iid}{\\sim} F_X$\n",
    "* $(Y_1, ..., Y_m) \\stackrel{iid}{\\sim}F_Y$\n",
    "\n",
    "##### Typical test hypothesis\n",
    "* $H0: F_X = F_Y$\n",
    "* $H1: F_X \\neq F_Y$\n",
    "\n",
    "##### Test Statistic (Mann-Witney test statistic $U = W − m(m + 1)/2$)\n",
    "$$U(X,Y) = \\sum_{i=1}^{n}\\sum_{i=m}^{m}\\mathbb{I}\\{Y_j > X_i\\}$$\n",
    "\n",
    "\n",
    "\n",
    "##### Distribution of test statistic\n",
    "* $H0: F_X = F_Y$ $\\qquad$ $X$ and $Y$ iid $\\implies Z_1, ..., Z_N$ exchangeable $\\implies  R \\sim U(\\mathcal P_{n+m})$\n",
    "* $H1: F_X \\neq F_Y$ $\\qquad$ compute $p^+, p^-$ and reject $H0$ if $2min(p^-, p^+) \\leq \\alpha$\n",
    "    * $p^- = \\mathbb{P}(U(X,Y) \\leq U_{obs})$\n",
    "    * $p^+ = \\mathbb{P}(U(X,Y) \\geq U_{obs})$"
   ]
  },
  {
   "cell_type": "markdown",
   "id": "c60592fe-c620-4a16-9eec-3b25a0e738f9",
   "metadata": {
    "tags": []
   },
   "source": [
    "### Example (leukemia data):"
   ]
  },
  {
   "cell_type": "markdown",
   "id": "42ac3ecd-95d1-4771-b7b4-b7b614980ce6",
   "metadata": {},
   "source": [
    "#### Gene 3500 (exact calculation)"
   ]
  },
  {
   "cell_type": "markdown",
   "id": "e75aeef0-8f27-4baa-bfda-2659f87d8583",
   "metadata": {},
   "source": [
    "Consider gene 3500 for the first 4 patients from each subtype:"
   ]
  },
  {
   "cell_type": "code",
   "execution_count": 106,
   "id": "4e40439a-855f-4b59-98a5-2d6d506269ba",
   "metadata": {},
   "outputs": [
    {
     "data": {
      "text/html": [
       "<div>\n",
       "<style scoped>\n",
       "    .dataframe tbody tr th:only-of-type {\n",
       "        vertical-align: middle;\n",
       "    }\n",
       "\n",
       "    .dataframe tbody tr th {\n",
       "        vertical-align: top;\n",
       "    }\n",
       "\n",
       "    .dataframe thead tr th {\n",
       "        text-align: left;\n",
       "    }\n",
       "\n",
       "    .dataframe thead tr:last-of-type th {\n",
       "        text-align: right;\n",
       "    }\n",
       "</style>\n",
       "<table border=\"1\" class=\"dataframe\">\n",
       "  <thead>\n",
       "    <tr>\n",
       "      <th></th>\n",
       "      <th colspan=\"4\" halign=\"left\">Subtype A</th>\n",
       "      <th colspan=\"4\" halign=\"left\">Subtype B</th>\n",
       "    </tr>\n",
       "    <tr>\n",
       "      <th>Patient</th>\n",
       "      <th>1</th>\n",
       "      <th>2</th>\n",
       "      <th>3</th>\n",
       "      <th>4</th>\n",
       "      <th>1</th>\n",
       "      <th>2</th>\n",
       "      <th>3</th>\n",
       "      <th>4</th>\n",
       "    </tr>\n",
       "    <tr>\n",
       "      <th>Gene</th>\n",
       "      <th></th>\n",
       "      <th></th>\n",
       "      <th></th>\n",
       "      <th></th>\n",
       "      <th></th>\n",
       "      <th></th>\n",
       "      <th></th>\n",
       "      <th></th>\n",
       "    </tr>\n",
       "  </thead>\n",
       "  <tbody>\n",
       "    <tr>\n",
       "      <th>3500</th>\n",
       "      <td>0.950646</td>\n",
       "      <td>1.258883</td>\n",
       "      <td>-0.094631</td>\n",
       "      <td>0.431763</td>\n",
       "      <td>-1.453403</td>\n",
       "      <td>-1.062839</td>\n",
       "      <td>-1.086745</td>\n",
       "      <td>-1.403419</td>\n",
       "    </tr>\n",
       "    <tr>\n",
       "      <th>Rank</th>\n",
       "      <td>7.000000</td>\n",
       "      <td>8.000000</td>\n",
       "      <td>5.000000</td>\n",
       "      <td>6.000000</td>\n",
       "      <td>1.000000</td>\n",
       "      <td>4.000000</td>\n",
       "      <td>3.000000</td>\n",
       "      <td>2.000000</td>\n",
       "    </tr>\n",
       "  </tbody>\n",
       "</table>\n",
       "</div>"
      ],
      "text/plain": [
       "        Subtype A                               Subtype B                      \\\n",
       "Patient         1         2         3         4         1         2         3   \n",
       "Gene                                                                            \n",
       "3500     0.950646  1.258883 -0.094631  0.431763 -1.453403 -1.062839 -1.086745   \n",
       "Rank     7.000000  8.000000  5.000000  6.000000  1.000000  4.000000  3.000000   \n",
       "\n",
       "                   \n",
       "Patient         4  \n",
       "Gene               \n",
       "3500    -1.403419  \n",
       "Rank     2.000000  "
      ]
     },
     "execution_count": 106,
     "metadata": {},
     "output_type": "execute_result"
    }
   ],
   "source": [
    "leukemia_3500 = leukemia.iloc[[3500 - 1], np.r_[0:4, 47 : 47 + 4]]\n",
    "leukemia_3500.loc[\"Rank\"] = leukemia_3500.loc[3500].rank()\n",
    "leukemia_3500"
   ]
  },
  {
   "cell_type": "markdown",
   "id": "4c30988c-eb40-4016-b5ef-e7403e032ef8",
   "metadata": {
    "tags": []
   },
   "source": [
    "##### Hypothesis\n",
    "$H0: \\Delta = 0$ vs $H1: \\Delta < 0$"
   ]
  },
  {
   "cell_type": "code",
   "execution_count": 107,
   "id": "5f5378e4-6692-4adb-9e87-1419e6070c23",
   "metadata": {},
   "outputs": [],
   "source": [
    "X = leukemia_3500[\"Subtype A\"].loc[3500]\n",
    "Y = leukemia_3500[\"Subtype B\"].loc[3500]"
   ]
  },
  {
   "cell_type": "code",
   "execution_count": 109,
   "id": "53002f1d-4815-43e6-b038-c7ffe7262652",
   "metadata": {},
   "outputs": [
    {
     "data": {
      "text/plain": [
       "Patient\n",
       "1   -1.453403\n",
       "2   -1.062839\n",
       "3   -1.086745\n",
       "4   -1.403419\n",
       "Name: 3500, dtype: float64"
      ]
     },
     "execution_count": 109,
     "metadata": {},
     "output_type": "execute_result"
    }
   ],
   "source": [
    "Y"
   ]
  },
  {
   "cell_type": "markdown",
   "id": "7dfab09a-926b-42b3-ba6a-76770d4888e7",
   "metadata": {},
   "source": [
    "##### Caluclation"
   ]
  },
  {
   "cell_type": "code",
   "execution_count": 21,
   "id": "814f5dcd-2f51-4117-a3c3-beecd51d1cb7",
   "metadata": {},
   "outputs": [
    {
     "data": {
      "text/plain": [
       "10.0"
      ]
     },
     "execution_count": 21,
     "metadata": {},
     "output_type": "execute_result"
    }
   ],
   "source": [
    "W_obs = leukemia_3500[\"Subtype B\"].loc[\"Rank\"].sum()\n",
    "W_obs"
   ]
  },
  {
   "cell_type": "markdown",
   "id": "16b77888-2bef-48d6-b0e1-9524d9b85caa",
   "metadata": {},
   "source": [
    "$p^- = G_{n,m}(W_{obs}) = \\mathbb{P}(W(R) \\leq W_{obs}) = \\frac{4!4!}{(4+4)!} = 0.0143 < 0.05$. Therefore we reject $H0$."
   ]
  },
  {
   "cell_type": "markdown",
   "id": "00a52768-9236-4bb6-975c-9c92694bc9af",
   "metadata": {},
   "source": [
    "Note that $U = W − \\frac{m(m + 1)}{2} = 10 - \\frac{4(4+1)}{2} = 0$"
   ]
  },
  {
   "cell_type": "markdown",
   "id": "4c8e8e6b-a2f3-40f5-8546-19d61f644e7b",
   "metadata": {},
   "source": [
    "##### Scipy"
   ]
  },
  {
   "cell_type": "code",
   "execution_count": 22,
   "id": "5dfc718d-8f7e-46d6-8f4f-cfe87edebfd4",
   "metadata": {},
   "outputs": [
    {
     "data": {
      "text/plain": [
       "MannwhitneyuResult(statistic=0.0, pvalue=0.014285714285714285)"
      ]
     },
     "execution_count": 22,
     "metadata": {},
     "output_type": "execute_result"
    }
   ],
   "source": [
    "mannwhitneyu(Y, X, method=\"exact\", alternative=\"less\")"
   ]
  },
  {
   "cell_type": "markdown",
   "id": "ee5f5fdc-5fdf-4861-a107-bf5f72bb2ef5",
   "metadata": {},
   "source": [
    "#### Gene 1706 (Monte Carlo approximation)"
   ]
  },
  {
   "cell_type": "markdown",
   "id": "24dafabd-6fc4-4146-ae12-66cf4834b81e",
   "metadata": {},
   "source": [
    "Consider gene 1706:"
   ]
  },
  {
   "cell_type": "code",
   "execution_count": 110,
   "id": "fdc24c46-51e9-40c6-98b2-59fb4ce1e47f",
   "metadata": {},
   "outputs": [
    {
     "data": {
      "text/html": [
       "<div>\n",
       "<style scoped>\n",
       "    .dataframe tbody tr th:only-of-type {\n",
       "        vertical-align: middle;\n",
       "    }\n",
       "\n",
       "    .dataframe tbody tr th {\n",
       "        vertical-align: top;\n",
       "    }\n",
       "\n",
       "    .dataframe thead tr th {\n",
       "        text-align: left;\n",
       "    }\n",
       "\n",
       "    .dataframe thead tr:last-of-type th {\n",
       "        text-align: right;\n",
       "    }\n",
       "</style>\n",
       "<table border=\"1\" class=\"dataframe\">\n",
       "  <thead>\n",
       "    <tr>\n",
       "      <th></th>\n",
       "      <th colspan=\"10\" halign=\"left\">Subtype A</th>\n",
       "      <th>...</th>\n",
       "      <th colspan=\"10\" halign=\"left\">Subtype B</th>\n",
       "    </tr>\n",
       "    <tr>\n",
       "      <th>Patient</th>\n",
       "      <th>1</th>\n",
       "      <th>2</th>\n",
       "      <th>3</th>\n",
       "      <th>4</th>\n",
       "      <th>5</th>\n",
       "      <th>6</th>\n",
       "      <th>7</th>\n",
       "      <th>8</th>\n",
       "      <th>9</th>\n",
       "      <th>10</th>\n",
       "      <th>...</th>\n",
       "      <th>16</th>\n",
       "      <th>17</th>\n",
       "      <th>18</th>\n",
       "      <th>19</th>\n",
       "      <th>20</th>\n",
       "      <th>21</th>\n",
       "      <th>22</th>\n",
       "      <th>23</th>\n",
       "      <th>24</th>\n",
       "      <th>25</th>\n",
       "    </tr>\n",
       "    <tr>\n",
       "      <th>Gene</th>\n",
       "      <th></th>\n",
       "      <th></th>\n",
       "      <th></th>\n",
       "      <th></th>\n",
       "      <th></th>\n",
       "      <th></th>\n",
       "      <th></th>\n",
       "      <th></th>\n",
       "      <th></th>\n",
       "      <th></th>\n",
       "      <th></th>\n",
       "      <th></th>\n",
       "      <th></th>\n",
       "      <th></th>\n",
       "      <th></th>\n",
       "      <th></th>\n",
       "      <th></th>\n",
       "      <th></th>\n",
       "      <th></th>\n",
       "      <th></th>\n",
       "      <th></th>\n",
       "    </tr>\n",
       "  </thead>\n",
       "  <tbody>\n",
       "    <tr>\n",
       "      <th>1706</th>\n",
       "      <td>0.742095</td>\n",
       "      <td>-0.135933</td>\n",
       "      <td>-1.771259</td>\n",
       "      <td>0.577282</td>\n",
       "      <td>0.89576</td>\n",
       "      <td>-1.660574</td>\n",
       "      <td>0.040558</td>\n",
       "      <td>-0.968151</td>\n",
       "      <td>-0.335355</td>\n",
       "      <td>-1.477719</td>\n",
       "      <td>...</td>\n",
       "      <td>-0.931488</td>\n",
       "      <td>-0.218484</td>\n",
       "      <td>-0.195975</td>\n",
       "      <td>-0.582011</td>\n",
       "      <td>-1.539868</td>\n",
       "      <td>0.188182</td>\n",
       "      <td>-0.171678</td>\n",
       "      <td>-1.319879</td>\n",
       "      <td>-0.076744</td>\n",
       "      <td>-0.726423</td>\n",
       "    </tr>\n",
       "    <tr>\n",
       "      <th>Rank</th>\n",
       "      <td>53.000000</td>\n",
       "      <td>30.000000</td>\n",
       "      <td>4.000000</td>\n",
       "      <td>51.000000</td>\n",
       "      <td>59.00000</td>\n",
       "      <td>5.000000</td>\n",
       "      <td>33.000000</td>\n",
       "      <td>10.000000</td>\n",
       "      <td>24.000000</td>\n",
       "      <td>7.000000</td>\n",
       "      <td>...</td>\n",
       "      <td>11.000000</td>\n",
       "      <td>26.000000</td>\n",
       "      <td>27.000000</td>\n",
       "      <td>16.000000</td>\n",
       "      <td>6.000000</td>\n",
       "      <td>40.000000</td>\n",
       "      <td>28.000000</td>\n",
       "      <td>8.000000</td>\n",
       "      <td>31.000000</td>\n",
       "      <td>13.000000</td>\n",
       "    </tr>\n",
       "  </tbody>\n",
       "</table>\n",
       "<p>2 rows × 72 columns</p>\n",
       "</div>"
      ],
      "text/plain": [
       "         Subtype A                                                      \\\n",
       "Patient          1          2         3          4         5         6   \n",
       "Gene                                                                     \n",
       "1706      0.742095  -0.135933 -1.771259   0.577282   0.89576 -1.660574   \n",
       "Rank     53.000000  30.000000  4.000000  51.000000  59.00000  5.000000   \n",
       "\n",
       "                                                    ...  Subtype B             \\\n",
       "Patient          7          8          9        10  ...         16         17   \n",
       "Gene                                                ...                         \n",
       "1706      0.040558  -0.968151  -0.335355 -1.477719  ...  -0.931488  -0.218484   \n",
       "Rank     33.000000  10.000000  24.000000  7.000000  ...  11.000000  26.000000   \n",
       "\n",
       "                                                                         \\\n",
       "Patient         18         19        20         21         22        23   \n",
       "Gene                                                                      \n",
       "1706     -0.195975  -0.582011 -1.539868   0.188182  -0.171678 -1.319879   \n",
       "Rank     27.000000  16.000000  6.000000  40.000000  28.000000  8.000000   \n",
       "\n",
       "                               \n",
       "Patient         24         25  \n",
       "Gene                           \n",
       "1706     -0.076744  -0.726423  \n",
       "Rank     31.000000  13.000000  \n",
       "\n",
       "[2 rows x 72 columns]"
      ]
     },
     "execution_count": 110,
     "metadata": {},
     "output_type": "execute_result"
    }
   ],
   "source": [
    "leukemia_1706 = leukemia.iloc[[1706 - 1], :].copy()\n",
    "leukemia_1706.loc[\"Rank\"] = leukemia_1706.loc[1706].rank()\n",
    "leukemia_1706"
   ]
  },
  {
   "cell_type": "markdown",
   "id": "c2b0f1a8-e4cf-47e3-a1cb-d7bc69d7cd20",
   "metadata": {
    "tags": []
   },
   "source": [
    "##### Hypothesis\n",
    "$H0: \\Delta = 0$ vs $H1: \\Delta \\neq 0$"
   ]
  },
  {
   "cell_type": "code",
   "execution_count": 111,
   "id": "3fa59b59-9f9c-440a-98fb-d49963ba877c",
   "metadata": {},
   "outputs": [],
   "source": [
    "X = leukemia_1706[\"Subtype A\"].loc[1706]\n",
    "Y = leukemia_1706[\"Subtype B\"].loc[1706]"
   ]
  },
  {
   "cell_type": "markdown",
   "id": "c47ae716-2115-4303-a658-67651fa261e3",
   "metadata": {},
   "source": [
    "##### Caluclation (Monte Carlo)"
   ]
  },
  {
   "cell_type": "markdown",
   "id": "8d9e8f35-ef24-4446-8bcb-858fbc7cadc0",
   "metadata": {},
   "source": [
    "Note that $U = W − \\frac{m(m + 1)}{2} = 626 - \\frac{25(25+1)}{2} = 301$"
   ]
  },
  {
   "cell_type": "code",
   "execution_count": 112,
   "id": "2e9b316d-e09d-4224-a053-2051bc1065d2",
   "metadata": {},
   "outputs": [
    {
     "name": "stdout",
     "output_type": "stream",
     "text": [
      "W_obs:  626.0\n",
      "pval:  0.000546\n"
     ]
    }
   ],
   "source": [
    "# 1. Compute W_obs\n",
    "W_obs = leukemia_1706[\"Subtype B\"].loc[\"Rank\"].sum()\n",
    "\n",
    "# 2. Compute W_mc (K times)\n",
    "K = 1000000\n",
    "n = 47\n",
    "m = 25\n",
    "\n",
    "W_mc_list = np.zeros(K)\n",
    "ranks = list(range(1, n + m + 1))\n",
    "\n",
    "for i in range(K):\n",
    "    W_mc = np.random.choice(ranks, size=m, replace=False).sum()\n",
    "    W_mc_list[i] = W_mc\n",
    "\n",
    "# 3. Compute p_val\n",
    "pval_large = (W_mc_list >= W_obs).mean()\n",
    "pval_small = (W_mc_list <= W_obs).mean()\n",
    "pval = 2 * min(pval_large, pval_small)\n",
    "\n",
    "print(\"W_obs: \", W_obs)\n",
    "print(\"pval: \", pval)"
   ]
  },
  {
   "cell_type": "markdown",
   "id": "9a17f7b7-533f-4595-8a0e-5f08feeaca45",
   "metadata": {},
   "source": [
    "##### Scipy"
   ]
  },
  {
   "cell_type": "code",
   "execution_count": 113,
   "id": "4c31add0-6c5a-465f-a9d8-eb18b9a36961",
   "metadata": {},
   "outputs": [
    {
     "data": {
      "text/plain": [
       "MannwhitneyuResult(statistic=301.0, pvalue=0.0007175092329133386)"
      ]
     },
     "execution_count": 113,
     "metadata": {},
     "output_type": "execute_result"
    }
   ],
   "source": [
    "mannwhitneyu(Y, X, method=\"auto\", alternative=\"two-sided\", use_continuity=True)"
   ]
  },
  {
   "cell_type": "markdown",
   "id": "a78270fe-7735-4695-b37f-40a14b62a8e9",
   "metadata": {},
   "source": [
    "**Not the same as Monte Carlo pvalue!!**  \n",
    "**Need to figure out why (I think MC is correct)...**"
   ]
  }
 ],
 "metadata": {
  "kernelspec": {
   "display_name": "Python [conda env:ml]",
   "language": "python",
   "name": "conda-env-ml-py"
  },
  "language_info": {
   "codemirror_mode": {
    "name": "ipython",
    "version": 3
   },
   "file_extension": ".py",
   "mimetype": "text/x-python",
   "name": "python",
   "nbconvert_exporter": "python",
   "pygments_lexer": "ipython3",
   "version": "3.10.8"
  },
  "toc-autonumbering": false
 },
 "nbformat": 4,
 "nbformat_minor": 5
}
